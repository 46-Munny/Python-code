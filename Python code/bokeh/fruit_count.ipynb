{
 "cells": [
  {
   "cell_type": "code",
   "execution_count": 1,
   "id": "3208c2b6",
   "metadata": {},
   "outputs": [],
   "source": [
    "from bokeh.io import output_file, show\n",
    "from bokeh.models import ColumnDataSource\n",
    "from bokeh.palettes import Spectral10\n",
    "from bokeh.plotting import figure\n",
    "from bokeh.transform import factor_cmap\n",
    "\n",
    "\n",
    "output_file(\"fruits_bar_chart.html\") #output save file name\n",
    "\n",
    "# creating custom data\n",
    "fruits = ['Apples', 'Pears', 'Nectarines',\n",
    "'Plums', 'Grapes', 'Strawberries',\n",
    "'bananas','berries','pineapples','litchi']\n",
    "counts = [51, 34, 4, 28, 119, 79, 15, 68, 26, 88]\n",
    "\n",
    "# mapping counts with classes as a dictionary\n",
    "source = ColumnDataSource(data=dict(fruits=fruits,counts=counts))\n",
    "\n",
    "# initializing the figure\n",
    "p = figure(x_range=fruits,\n",
    "plot_width=800,\n",
    "plot_height=350,\n",
    "toolbar_location=None,\n",
    "title=\"Fruit Counts\")\n",
    "\n",
    "# assigning various attributes to plot\n",
    "p.vbar(x='fruits', top='counts',\n",
    "width=1, source=source,\n",
    "legend_field=\"fruits\",\n",
    "line_color='white',\n",
    "fill_color=factor_cmap('fruits',palette=Spectral10,factors=fruits))\n",
    "\n",
    "p.xgrid.grid_line_color = None\n",
    "p.y_range.start = 0\n",
    "p.y_range.end = 150\n",
    "p.legend.orientation = \"horizontal\"\n",
    "p.legend.location = \"top_center\"\n",
    "\n",
    "# display output\n",
    "show(p)\n"
   ]
  },
  {
   "cell_type": "code",
   "execution_count": null,
   "id": "9ffd9c35",
   "metadata": {},
   "outputs": [],
   "source": []
  }
 ],
 "metadata": {
  "kernelspec": {
   "display_name": "Python 3 (ipykernel)",
   "language": "python",
   "name": "python3"
  },
  "language_info": {
   "codemirror_mode": {
    "name": "ipython",
    "version": 3
   },
   "file_extension": ".py",
   "mimetype": "text/x-python",
   "name": "python",
   "nbconvert_exporter": "python",
   "pygments_lexer": "ipython3",
   "version": "3.9.12"
  }
 },
 "nbformat": 4,
 "nbformat_minor": 5
}
